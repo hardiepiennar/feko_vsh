{
 "cells": [
  {
   "cell_type": "markdown",
   "metadata": {},
   "source": [
    "# Vector Spherical Harmonics\n",
    "Playground to develop functions for vectorised spherical harmonics. This is not the most polished notebook, but it served its purpose. \n",
    "\n",
    "Disclamer: functions were written to give the same harmonics as the FEKO CEM simulation tool. A constant scaling factor was used. Feel free to try and remove the scaling factor that I added.\n",
    "\n",
    "https://www.osti.gov/scitech/servlets/purl/763320\n",
    "page 32"
   ]
  },
  {
   "cell_type": "code",
   "execution_count": 17,
   "metadata": {
    "collapsed": true
   },
   "outputs": [],
   "source": [
    "# Lets import some things\n",
    "import numpy as np\n",
    "import matplotlib.pyplot as plt\n",
    "import scipy.special\n",
    "import vsh"
   ]
  },
  {
   "cell_type": "markdown",
   "metadata": {},
   "source": [
    "Lets define a function help us visualise the 3D patterns"
   ]
  },
  {
   "cell_type": "code",
   "execution_count": 18,
   "metadata": {
    "collapsed": true
   },
   "outputs": [],
   "source": [
    "from mpl_toolkits.mplot3d import Axes3D\n",
    "from matplotlib import cm\n",
    "\n",
    "def plot_farfield_3d_spherical(theta, phi, ampl, title, zlim=[-1,-1], dynamic_range=40):\n",
    "    \"\"\"\n",
    "    Plot the data in a 3D spherical environment\n",
    "    :param dynamic_range: range of values to plot on sphere\n",
    "    :param theta: theta coordinate grid\n",
    "    :param phi: phi coordinate grid\n",
    "    :param ampl: amplitudes to plot\n",
    "    \"\"\"\n",
    "\n",
    "    fig = plt.figure()\n",
    "    ax = fig.gca(projection='3d')\n",
    "    ax._axis3don = False\n",
    "\n",
    "    scale = 2\n",
    "    ax.set_xlim(-0.5*scale, 0.5*scale)\n",
    "    ax.set_ylim(-0.5*scale, 0.5*scale)\n",
    "    ax.set_zlim(-0.5*scale, 0.5*scale)\n",
    "\n",
    "    ampl = ampl - np.min(ampl)\n",
    "\n",
    "    x = ampl*np.sin(theta)*np.cos(phi)\n",
    "    y = ampl*np.sin(theta)*np.sin(phi)\n",
    "    z = ampl*np.cos(theta)\n",
    "    surf = ax.plot_surface(x, y, z, rstride=1, cstride=1, cmap=cm.jet, linewidth=0.5, antialiased=True, shade=False)"
   ]
  },
  {
   "cell_type": "markdown",
   "metadata": {},
   "source": [
    "Lets create a function to calculate and display a harmonic given its s, m, n parameters. <br>"
   ]
  },
  {
   "cell_type": "code",
   "execution_count": 19,
   "metadata": {
    "scrolled": false
   },
   "outputs": [],
   "source": [
    "# Define parameters\n",
    "s = 0\n",
    "m = -1\n",
    "n = 1\n",
    "def visualise_vsh(s, m, n):\n",
    "    # Define theta and phi ranges for the phi cut plots\n",
    "    theta = np.linspace(0 , np.pi)\n",
    "    phi = 0\n",
    "\n",
    "    # Calculate spherical harmonic phi cut\n",
    "    vsh_theta, vsh_phi = vsh.vsh(s, m, n, theta, phi)\n",
    "    # Calculate the total power from the theta and phi components\n",
    "    vsh_total = np.sqrt(np.abs(vsh_phi)**2 + np.abs(vsh_theta)**2)\n",
    "\n",
    "    # Plot spherical harmonic phi cut\n",
    "    plt.figure()\n",
    "    plt.plot(theta, np.angle(vsh_theta)*180/np.pi, label=\"theta\")\n",
    "    plt.plot(theta, np.angle(vsh_phi)*180/np.pi, label=\"phi\")\n",
    "    plt.legend()\n",
    "    plt.figure()\n",
    "    plt.plot(theta, np.abs(vsh_theta), label=\"theta\")\n",
    "    plt.plot(theta, np.abs(vsh_phi), label=\"phi\")\n",
    "    plt.legend()\n",
    "    plt.figure()\n",
    "    plt.plot(theta, vsh_total)\n",
    "\n",
    "    # Define theta and phi ranges for 3D plot\n",
    "    theta = np.linspace(0 , np.pi)\n",
    "    phi = np.linspace(0, 2*np.pi)\n",
    "\n",
    "    # Vectorise theta and phi\n",
    "    theta_grid, phi_grid = np.meshgrid(theta, phi)\n",
    "    # Calculate harmonic for full 3D pattern\n",
    "    vsh_theta, vsh_phi = vsh.vsh(s, m, n, theta_grid, phi_grid)\n",
    "    # Calculate the total field from components\n",
    "    vsh_total = np.sqrt(np.power(np.abs(vsh_theta),2)+np.power(np.abs(vsh_phi),2))\n",
    "    # Plot the 3D pattern\n",
    "    plot_farfield_3d_spherical(theta_grid, phi_grid, vsh_total/8, \"\", dynamic_range=8)\n",
    "    plt.show()"
   ]
  },
  {
   "cell_type": "markdown",
   "metadata": {},
   "source": [
    "Turn it into a widget!"
   ]
  },
  {
   "cell_type": "code",
   "execution_count": 20,
   "metadata": {},
   "outputs": [
    {
     "data": {
      "application/vnd.jupyter.widget-view+json": {
       "model_id": "71c619cbe86843d1bb02afc0be32f6e9",
       "version_major": 2,
       "version_minor": 0
      },
      "text/plain": [
       "A Jupyter Widget"
      ]
     },
     "metadata": {},
     "output_type": "display_data"
    },
    {
     "data": {
      "text/plain": [
       "<function __main__.visualise_vsh>"
      ]
     },
     "execution_count": 20,
     "metadata": {},
     "output_type": "execute_result"
    }
   ],
   "source": [
    "# Import the interactive tool\n",
    "from IPython.html.widgets import *\n",
    "    \n",
    "# Turn it into a widget!\n",
    "interact(visualise_vsh, s=(0,1,1), m=(-5,5,1), n=(1,5))"
   ]
  },
  {
   "cell_type": "code",
   "execution_count": null,
   "metadata": {
    "collapsed": true
   },
   "outputs": [],
   "source": []
  }
 ],
 "metadata": {
  "kernelspec": {
   "display_name": "Python 3",
   "language": "python",
   "name": "python3"
  },
  "language_info": {
   "codemirror_mode": {
    "name": "ipython",
    "version": 3
   },
   "file_extension": ".py",
   "mimetype": "text/x-python",
   "name": "python",
   "nbconvert_exporter": "python",
   "pygments_lexer": "ipython3",
   "version": "3.6.2"
  }
 },
 "nbformat": 4,
 "nbformat_minor": 2
}
